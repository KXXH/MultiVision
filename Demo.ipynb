{
 "cells": [
  {
   "cell_type": "markdown",
   "metadata": {},
   "source": [
    "# Chart Recommender\n",
    "This file provides an example of running the single chart recommender.     \n",
    "The input is a CSV file containing the data.     \n",
    "\n",
    "### Single-Chart Recommender\n",
    "The output is the recommended charts, described by the column selection and chart type.     \n",
    "\n",
    "### MV Recommender\n",
    "The output is the recommended MVs, described as a list of charts.\n",
    "\n",
    "Notes of limitations:\n",
    "- A chart can encode a max number of 4 data columns.\n",
    "- A MV can have a max number of 12 charts.\n",
    "- The predicted chart type is limited to ('area', 'bar', 'scatter', 'line', 'pie')"
   ]
  },
  {
   "cell_type": "code",
   "execution_count": 1,
   "metadata": {},
   "outputs": [],
   "source": [
    "import pandas as pd\n",
    "import json\n",
    "import numpy as np\n",
    "import itertools\n",
    "import sys\n",
    "import re\n",
    "\n",
    "import torch\n",
    "from torch.nn.utils.rnn import pack_padded_sequence, pad_packed_sequence\n",
    "from torch.autograd import Variable\n",
    "import torch.nn.functional as nnf\n",
    "\n",
    "from model.encodingModel import ChartTypeNN, ChartTypeLSTM, ScoreNetLSTM\n",
    "# from utils.helper import softmax, get_data_feature_by_column, get_embed_feature_by_column, get_all_charts_scores, charts_to_features\n",
    "from utils import featureExtractor\n",
    "from utils.ChartRecommender import ChartRecommender"
   ]
  },
  {
   "cell_type": "markdown",
   "metadata": {},
   "source": [
    "## Load pretrained word-embedding model"
   ]
  },
  {
   "cell_type": "code",
   "execution_count": 2,
   "metadata": {},
   "outputs": [],
   "source": [
    "word_embedding_model_path = 'utils/en-50d-200000words.vec'\n",
    "\n",
    "word_embedding_dict = {}\n",
    "with open(word_embedding_model_path,encoding=\"utf-8\") as file_in:\n",
    "    lines = []\n",
    "    for idx, line in enumerate(file_in):\n",
    "        if idx == 0: ## line 0 is invalid\n",
    "            continue \n",
    "        word, *features = line.split()\n",
    "        word_embedding_dict[word] = np.array(features)"
   ]
  },
  {
   "cell_type": "markdown",
   "metadata": {},
   "source": [
    "## Load trained single-chart assessment model and chart type prediction model"
   ]
  },
  {
   "cell_type": "code",
   "execution_count": 3,
   "metadata": {},
   "outputs": [
    {
     "data": {
      "text/plain": [
       "ChartTypeLSTM(\n",
       "  (lstm): LSTM(96, 400, batch_first=True, bidirectional=True)\n",
       "  (dense): Sequential(\n",
       "    (linear0): Linear(in_features=3200, out_features=2000, bias=True)\n",
       "    (rulu0): LeakyReLU(negative_slope=0.01)\n",
       "    (dropout0): Dropout(p=0.4, inplace=False)\n",
       "    (linear1): Linear(in_features=2000, out_features=1600, bias=True)\n",
       "    (rulu1): LeakyReLU(negative_slope=0.01)\n",
       "    (dropout1): Dropout(p=0.4, inplace=False)\n",
       "    (linear2): Linear(in_features=1600, out_features=1200, bias=True)\n",
       "    (rulu2): LeakyReLU(negative_slope=0.01)\n",
       "    (dropout2): Dropout(p=0.4, inplace=False)\n",
       "    (linear4): Linear(in_features=1200, out_features=9, bias=True)\n",
       "    (output): ReLU()\n",
       "  )\n",
       ")"
      ]
     },
     "execution_count": 3,
     "metadata": {},
     "output_type": "execute_result"
    }
   ],
   "source": [
    "# gpu = torch.device('cuda:0')\n",
    "gpu = torch.device(\"cpu\")\n",
    "\n",
    "column_score_model = ScoreNetLSTM(input_size=96, seq_length = 4, batch_size=2, pack = True).to(gpu)\n",
    "column_score_model.load_state_dict(torch.load('trainedModel/singleChartModel.pt', map_location=gpu))\n",
    "column_score_model.eval()\n",
    "\n",
    "chart_type_model = ChartTypeLSTM(input_size = 96, hidden_size = 400, seq_length = 4, num_class = 9, bidirectional = True).to(gpu)\n",
    "chart_type_model.load_state_dict(torch.load('trainedModel/chartType.pt', map_location=gpu))\n",
    "chart_type_model.eval()"
   ]
  },
  {
   "cell_type": "markdown",
   "metadata": {},
   "source": [
    "## Single chart recommender\n",
    "Return a DataFrame:\n",
    "- indices: the column indices encoded by this chart\n",
    "- column_selection_score: the predicted score for the column selection. Min-max normed.\n",
    "- chart type: the chart type ('area', 'bar', 'scatter', 'line', 'pie')\n",
    "- chart_type_prob: the likelihood that the selected columns are encoded by the chart type\n",
    "- final_score: the overall score which is column_selection_score * chart_type_prob"
   ]
  },
  {
   "cell_type": "code",
   "execution_count": 4,
   "metadata": {},
   "outputs": [],
   "source": [
    "chartRecommender = ChartRecommender('csv/penguins.csv', \n",
    "                                    word_embedding_dict, column_score_model, chart_type_model,gpu)"
   ]
  },
  {
   "cell_type": "code",
   "execution_count": 5,
   "metadata": {},
   "outputs": [
    {
     "data": {
      "text/html": [
       "<div>\n",
       "<style scoped>\n",
       "    .dataframe tbody tr th:only-of-type {\n",
       "        vertical-align: middle;\n",
       "    }\n",
       "\n",
       "    .dataframe tbody tr th {\n",
       "        vertical-align: top;\n",
       "    }\n",
       "\n",
       "    .dataframe thead th {\n",
       "        text-align: right;\n",
       "    }\n",
       "</style>\n",
       "<table border=\"1\" class=\"dataframe\">\n",
       "  <thead>\n",
       "    <tr style=\"text-align: right;\">\n",
       "      <th></th>\n",
       "      <th>indices</th>\n",
       "      <th>column_selection_score</th>\n",
       "      <th>chart_type</th>\n",
       "      <th>chart_type_prob</th>\n",
       "      <th>final_score</th>\n",
       "    </tr>\n",
       "  </thead>\n",
       "  <tbody>\n",
       "    <tr>\n",
       "      <th>247</th>\n",
       "      <td>(1, 3, 6)</td>\n",
       "      <td>1.000000</td>\n",
       "      <td>line</td>\n",
       "      <td>9.999998e-01</td>\n",
       "      <td>1.000000</td>\n",
       "    </tr>\n",
       "    <tr>\n",
       "      <th>232</th>\n",
       "      <td>(1, 2, 6)</td>\n",
       "      <td>0.996297</td>\n",
       "      <td>line</td>\n",
       "      <td>1.000000e+00</td>\n",
       "      <td>0.996297</td>\n",
       "    </tr>\n",
       "    <tr>\n",
       "      <th>262</th>\n",
       "      <td>(1, 5, 6)</td>\n",
       "      <td>0.995994</td>\n",
       "      <td>line</td>\n",
       "      <td>9.999995e-01</td>\n",
       "      <td>0.995994</td>\n",
       "    </tr>\n",
       "    <tr>\n",
       "      <th>257</th>\n",
       "      <td>(1, 4, 6)</td>\n",
       "      <td>0.995900</td>\n",
       "      <td>line</td>\n",
       "      <td>9.999955e-01</td>\n",
       "      <td>0.995896</td>\n",
       "    </tr>\n",
       "    <tr>\n",
       "      <th>197</th>\n",
       "      <td>(0, 3, 6)</td>\n",
       "      <td>0.993849</td>\n",
       "      <td>line</td>\n",
       "      <td>9.999998e-01</td>\n",
       "      <td>0.993849</td>\n",
       "    </tr>\n",
       "    <tr>\n",
       "      <th>...</th>\n",
       "      <td>...</td>\n",
       "      <td>...</td>\n",
       "      <td>...</td>\n",
       "      <td>...</td>\n",
       "      <td>...</td>\n",
       "    </tr>\n",
       "    <tr>\n",
       "      <th>14</th>\n",
       "      <td>(2,)</td>\n",
       "      <td>0.000000</td>\n",
       "      <td>scatter</td>\n",
       "      <td>1.628431e-03</td>\n",
       "      <td>0.000000</td>\n",
       "    </tr>\n",
       "    <tr>\n",
       "      <th>13</th>\n",
       "      <td>(2,)</td>\n",
       "      <td>0.000000</td>\n",
       "      <td>pie</td>\n",
       "      <td>9.297263e-15</td>\n",
       "      <td>0.000000</td>\n",
       "    </tr>\n",
       "    <tr>\n",
       "      <th>12</th>\n",
       "      <td>(2,)</td>\n",
       "      <td>0.000000</td>\n",
       "      <td>line</td>\n",
       "      <td>9.983486e-01</td>\n",
       "      <td>0.000000</td>\n",
       "    </tr>\n",
       "    <tr>\n",
       "      <th>11</th>\n",
       "      <td>(2,)</td>\n",
       "      <td>0.000000</td>\n",
       "      <td>bar</td>\n",
       "      <td>9.838510e-06</td>\n",
       "      <td>0.000000</td>\n",
       "    </tr>\n",
       "    <tr>\n",
       "      <th>10</th>\n",
       "      <td>(2,)</td>\n",
       "      <td>0.000000</td>\n",
       "      <td>area</td>\n",
       "      <td>1.310610e-05</td>\n",
       "      <td>0.000000</td>\n",
       "    </tr>\n",
       "  </tbody>\n",
       "</table>\n",
       "<p>315 rows × 5 columns</p>\n",
       "</div>"
      ],
      "text/plain": [
       "       indices  column_selection_score chart_type  chart_type_prob  \\\n",
       "247  (1, 3, 6)                1.000000       line     9.999998e-01   \n",
       "232  (1, 2, 6)                0.996297       line     1.000000e+00   \n",
       "262  (1, 5, 6)                0.995994       line     9.999995e-01   \n",
       "257  (1, 4, 6)                0.995900       line     9.999955e-01   \n",
       "197  (0, 3, 6)                0.993849       line     9.999998e-01   \n",
       "..         ...                     ...        ...              ...   \n",
       "14        (2,)                0.000000    scatter     1.628431e-03   \n",
       "13        (2,)                0.000000        pie     9.297263e-15   \n",
       "12        (2,)                0.000000       line     9.983486e-01   \n",
       "11        (2,)                0.000000        bar     9.838510e-06   \n",
       "10        (2,)                0.000000       area     1.310610e-05   \n",
       "\n",
       "     final_score  \n",
       "247     1.000000  \n",
       "232     0.996297  \n",
       "262     0.995994  \n",
       "257     0.995896  \n",
       "197     0.993849  \n",
       "..           ...  \n",
       "14      0.000000  \n",
       "13      0.000000  \n",
       "12      0.000000  \n",
       "11      0.000000  \n",
       "10      0.000000  \n",
       "\n",
       "[315 rows x 5 columns]"
      ]
     },
     "execution_count": 5,
     "metadata": {},
     "output_type": "execute_result"
    }
   ],
   "source": [
    "## rank the results by the final_score\n",
    "pd.DataFrame.from_records(chartRecommender.charts).sort_values(by='final_score', ascending = False)"
   ]
  },
  {
   "cell_type": "markdown",
   "metadata": {},
   "source": [
    "## MV Recommender\n",
    "Return a MV.\n",
    "- a MV is describled as a list of charts (corresponding to each record in the above charts_df)\n",
    "- current_mv: optional. \n",
    "- max_charts: number of charts in the returned MV"
   ]
  },
  {
   "cell_type": "code",
   "execution_count": 6,
   "metadata": {},
   "outputs": [
    {
     "data": {
      "text/plain": [
       "ScoreNetLSTM(\n",
       "  (lstm): LSTM(9, 200, batch_first=True)\n",
       "  (linear): Linear(in_features=2400, out_features=1, bias=True)\n",
       ")"
      ]
     },
     "execution_count": 6,
     "metadata": {},
     "output_type": "execute_result"
    }
   ],
   "source": [
    "## load model\n",
    "mv_model = ScoreNetLSTM(input_size=9, seq_length = 12).to(gpu)\n",
    "mv_model.load_state_dict(torch.load('trainedModel/mvModel.pt', map_location=gpu))\n",
    "mv_model.eval()"
   ]
  },
  {
   "cell_type": "code",
   "execution_count": 7,
   "metadata": {},
   "outputs": [],
   "source": [
    "chartRecommender = ChartRecommender('csv/penguins.csv', \n",
    "                                    word_embedding_dict, column_score_model, chart_type_model)"
   ]
  },
  {
   "cell_type": "code",
   "execution_count": 8,
   "metadata": {},
   "outputs": [
    {
     "data": {
      "text/plain": [
       "[{'indices': (1,), 'chart_type': 'pie'},\n",
       " {'indices': (0, 1, 6),\n",
       "  'column_selection_score': 0.953993421295783,\n",
       "  'chart_type': 'bar',\n",
       "  'chart_type_prob': 0.9747984895572608,\n",
       "  'final_score': 0.9299513461266928}]"
      ]
     },
     "execution_count": 8,
     "metadata": {},
     "output_type": "execute_result"
    }
   ],
   "source": [
    "## Recommending an MV conditioned on current_mv\n",
    "current_mv = [{'indices': (1,), 'chart_type': 'pie'}]\n",
    "chartRecommender.recommend_mv(mv_model, current_mv = current_mv, max_charts = len(current_mv) + 1)"
   ]
  },
  {
   "cell_type": "code",
   "execution_count": 9,
   "metadata": {},
   "outputs": [
    {
     "data": {
      "text/plain": [
       "[{'indices': (2, 3, 5),\n",
       "  'column_selection_score': 0.17087826005069967,\n",
       "  'chart_type': 'line',\n",
       "  'chart_type_prob': 0.9999961295181747,\n",
       "  'final_score': 0.1708775986694998},\n",
       " {'indices': (0, 1, 6),\n",
       "  'column_selection_score': 0.953993421295783,\n",
       "  'chart_type': 'bar',\n",
       "  'chart_type_prob': 0.9747984895572608,\n",
       "  'final_score': 0.9299513461266928},\n",
       " {'indices': (2, 4, 5),\n",
       "  'column_selection_score': 0.17105399002916724,\n",
       "  'chart_type': 'line',\n",
       "  'chart_type_prob': 0.9999778765252179,\n",
       "  'final_score': 0.17105020572053245},\n",
       " {'indices': (3, 4, 5),\n",
       "  'column_selection_score': 0.17125479391300252,\n",
       "  'chart_type': 'line',\n",
       "  'chart_type_prob': 0.9998294005573524,\n",
       "  'final_score': 0.17122557794061022}]"
      ]
     },
     "execution_count": 9,
     "metadata": {},
     "output_type": "execute_result"
    }
   ],
   "source": [
    "## Recommending an MV without conditions\n",
    "chartRecommender.recommend_mv(mv_model, current_mv = [], max_charts = 4)"
   ]
  },
  {
   "cell_type": "code",
   "execution_count": null,
   "metadata": {},
   "outputs": [],
   "source": []
  }
 ],
 "metadata": {
  "interpreter": {
   "hash": "242949c92b61f81d8e4c9ff436072217bc2a62786b051a0b65a819bb8afe65e4"
  },
  "kernelspec": {
   "display_name": "Python 3.7.10 64-bit ('torch_env': conda)",
   "name": "python3"
  },
  "language_info": {
   "codemirror_mode": {
    "name": "ipython",
    "version": 3
   },
   "file_extension": ".py",
   "mimetype": "text/x-python",
   "name": "python",
   "nbconvert_exporter": "python",
   "pygments_lexer": "ipython3",
   "version": "3.7.10"
  }
 },
 "nbformat": 4,
 "nbformat_minor": 5
}
