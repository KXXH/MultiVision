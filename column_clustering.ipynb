{
 "cells": [
  {
   "cell_type": "markdown",
   "metadata": {},
   "source": [
    "# 初始化模型和数据\n",
    "复制自原始notebook"
   ]
  },
  {
   "cell_type": "code",
   "execution_count": 1,
   "metadata": {},
   "outputs": [],
   "source": [
    "import pandas as pd\n",
    "import json\n",
    "import numpy as np\n",
    "import itertools\n",
    "import sys\n",
    "import re\n",
    "import matplotlib.pyplot as plt\n",
    "import seaborn as sns\n",
    "\n",
    "import torch\n",
    "from torch.nn.utils.rnn import pack_padded_sequence, pad_packed_sequence\n",
    "from torch.autograd import Variable\n",
    "import torch.nn.functional as nnf\n",
    "\n",
    "from model.encodingModel import ChartTypeNN, ChartTypeLSTM, ScoreNetLSTM\n",
    "# from utils.helper import softmax, get_data_feature_by_column, get_embed_feature_by_column, get_all_charts_scores, charts_to_features\n",
    "from utils import featureExtractor\n",
    "from utils.ChartRecommender import ChartRecommender\n"
   ]
  },
  {
   "cell_type": "markdown",
   "metadata": {},
   "source": [
    "## 载入词向量"
   ]
  },
  {
   "cell_type": "code",
   "execution_count": 2,
   "metadata": {},
   "outputs": [],
   "source": [
    "word_embedding_model_path = 'utils/en-50d-200000words.vec'\n",
    "\n",
    "word_embedding_dict = {}\n",
    "with open(word_embedding_model_path, encoding=\"utf-8\") as file_in:\n",
    "    lines = []\n",
    "    for idx, line in enumerate(file_in):\n",
    "        if idx == 0:  # line 0 is invalid\n",
    "            continue\n",
    "        word, *features = line.split()\n",
    "        word_embedding_dict[word] = np.array(features)\n"
   ]
  },
  {
   "cell_type": "code",
   "execution_count": 3,
   "metadata": {},
   "outputs": [
    {
     "data": {
      "text/plain": [
       "ChartTypeLSTM(\n",
       "  (lstm): LSTM(96, 400, batch_first=True, bidirectional=True)\n",
       "  (dense): Sequential(\n",
       "    (linear0): Linear(in_features=3200, out_features=2000, bias=True)\n",
       "    (rulu0): LeakyReLU(negative_slope=0.01)\n",
       "    (dropout0): Dropout(p=0.4, inplace=False)\n",
       "    (linear1): Linear(in_features=2000, out_features=1600, bias=True)\n",
       "    (rulu1): LeakyReLU(negative_slope=0.01)\n",
       "    (dropout1): Dropout(p=0.4, inplace=False)\n",
       "    (linear2): Linear(in_features=1600, out_features=1200, bias=True)\n",
       "    (rulu2): LeakyReLU(negative_slope=0.01)\n",
       "    (dropout2): Dropout(p=0.4, inplace=False)\n",
       "    (linear4): Linear(in_features=1200, out_features=9, bias=True)\n",
       "    (output): ReLU()\n",
       "  )\n",
       ")"
      ]
     },
     "execution_count": 3,
     "metadata": {},
     "output_type": "execute_result"
    }
   ],
   "source": [
    "device = torch.device(\"cpu\")   # 使用\"cuda:0\"来使用GPU\n",
    "\n",
    "column_score_model = ScoreNetLSTM(\n",
    "    input_size=96, seq_length=4, batch_size=2, pack=True).to(device)\n",
    "column_score_model.load_state_dict(torch.load(\n",
    "    'trainedModel/singleChartModel.pt', map_location=device))\n",
    "column_score_model.eval()\n",
    "\n",
    "chart_type_model = ChartTypeLSTM(\n",
    "    input_size=96, hidden_size=400, seq_length=4, num_class=9, bidirectional=True).to(device)\n",
    "chart_type_model.load_state_dict(torch.load(\n",
    "    'trainedModel/chartType.pt', map_location=device))\n",
    "chart_type_model.eval()\n"
   ]
  },
  {
   "cell_type": "markdown",
   "metadata": {},
   "source": [
    "# 把得分取倒数计算距离"
   ]
  },
  {
   "cell_type": "code",
   "execution_count": 19,
   "metadata": {},
   "outputs": [
    {
     "data": {
      "text/html": [
       "<div>\n",
       "<style scoped>\n",
       "    .dataframe tbody tr th:only-of-type {\n",
       "        vertical-align: middle;\n",
       "    }\n",
       "\n",
       "    .dataframe tbody tr th {\n",
       "        vertical-align: top;\n",
       "    }\n",
       "\n",
       "    .dataframe thead th {\n",
       "        text-align: right;\n",
       "    }\n",
       "</style>\n",
       "<table border=\"1\" class=\"dataframe\">\n",
       "  <thead>\n",
       "    <tr style=\"text-align: right;\">\n",
       "      <th></th>\n",
       "      <th>indices</th>\n",
       "      <th>column_selection_score</th>\n",
       "      <th>chart_type</th>\n",
       "      <th>chart_type_prob</th>\n",
       "      <th>final_score</th>\n",
       "      <th>distance</th>\n",
       "    </tr>\n",
       "  </thead>\n",
       "  <tbody>\n",
       "    <tr>\n",
       "      <th>182</th>\n",
       "      <td>(1, 4, 5)</td>\n",
       "      <td>1.000000</td>\n",
       "      <td>line</td>\n",
       "      <td>9.999999e-01</td>\n",
       "      <td>1.000000</td>\n",
       "      <td>1.000000</td>\n",
       "    </tr>\n",
       "    <tr>\n",
       "      <th>202</th>\n",
       "      <td>(3, 4, 5)</td>\n",
       "      <td>0.999475</td>\n",
       "      <td>line</td>\n",
       "      <td>9.999999e-01</td>\n",
       "      <td>0.999475</td>\n",
       "      <td>1.000525</td>\n",
       "    </tr>\n",
       "    <tr>\n",
       "      <th>152</th>\n",
       "      <td>(0, 4, 5)</td>\n",
       "      <td>0.999380</td>\n",
       "      <td>line</td>\n",
       "      <td>9.999999e-01</td>\n",
       "      <td>0.999379</td>\n",
       "      <td>1.000621</td>\n",
       "    </tr>\n",
       "    <tr>\n",
       "      <th>197</th>\n",
       "      <td>(2, 4, 5)</td>\n",
       "      <td>0.999284</td>\n",
       "      <td>line</td>\n",
       "      <td>9.999999e-01</td>\n",
       "      <td>0.999284</td>\n",
       "      <td>1.000716</td>\n",
       "    </tr>\n",
       "    <tr>\n",
       "      <th>156</th>\n",
       "      <td>(1, 2, 3)</td>\n",
       "      <td>0.964647</td>\n",
       "      <td>bar</td>\n",
       "      <td>9.937672e-01</td>\n",
       "      <td>0.958634</td>\n",
       "      <td>1.036649</td>\n",
       "    </tr>\n",
       "    <tr>\n",
       "      <th>...</th>\n",
       "      <td>...</td>\n",
       "      <td>...</td>\n",
       "      <td>...</td>\n",
       "      <td>...</td>\n",
       "      <td>...</td>\n",
       "      <td>...</td>\n",
       "    </tr>\n",
       "    <tr>\n",
       "      <th>14</th>\n",
       "      <td>(2,)</td>\n",
       "      <td>0.000000</td>\n",
       "      <td>scatter</td>\n",
       "      <td>1.793568e-35</td>\n",
       "      <td>0.000000</td>\n",
       "      <td>inf</td>\n",
       "    </tr>\n",
       "    <tr>\n",
       "      <th>13</th>\n",
       "      <td>(2,)</td>\n",
       "      <td>0.000000</td>\n",
       "      <td>pie</td>\n",
       "      <td>1.793568e-35</td>\n",
       "      <td>0.000000</td>\n",
       "      <td>inf</td>\n",
       "    </tr>\n",
       "    <tr>\n",
       "      <th>12</th>\n",
       "      <td>(2,)</td>\n",
       "      <td>0.000000</td>\n",
       "      <td>line</td>\n",
       "      <td>1.000000e+00</td>\n",
       "      <td>0.000000</td>\n",
       "      <td>inf</td>\n",
       "    </tr>\n",
       "    <tr>\n",
       "      <th>11</th>\n",
       "      <td>(2,)</td>\n",
       "      <td>0.000000</td>\n",
       "      <td>bar</td>\n",
       "      <td>4.180090e-14</td>\n",
       "      <td>0.000000</td>\n",
       "      <td>inf</td>\n",
       "    </tr>\n",
       "    <tr>\n",
       "      <th>10</th>\n",
       "      <td>(2,)</td>\n",
       "      <td>0.000000</td>\n",
       "      <td>area</td>\n",
       "      <td>1.544143e-23</td>\n",
       "      <td>0.000000</td>\n",
       "      <td>inf</td>\n",
       "    </tr>\n",
       "  </tbody>\n",
       "</table>\n",
       "<p>205 rows × 6 columns</p>\n",
       "</div>"
      ],
      "text/plain": [
       "       indices  column_selection_score chart_type  chart_type_prob  \\\n",
       "182  (1, 4, 5)                1.000000       line     9.999999e-01   \n",
       "202  (3, 4, 5)                0.999475       line     9.999999e-01   \n",
       "152  (0, 4, 5)                0.999380       line     9.999999e-01   \n",
       "197  (2, 4, 5)                0.999284       line     9.999999e-01   \n",
       "156  (1, 2, 3)                0.964647        bar     9.937672e-01   \n",
       "..         ...                     ...        ...              ...   \n",
       "14        (2,)                0.000000    scatter     1.793568e-35   \n",
       "13        (2,)                0.000000        pie     1.793568e-35   \n",
       "12        (2,)                0.000000       line     1.000000e+00   \n",
       "11        (2,)                0.000000        bar     4.180090e-14   \n",
       "10        (2,)                0.000000       area     1.544143e-23   \n",
       "\n",
       "     final_score  distance  \n",
       "182     1.000000  1.000000  \n",
       "202     0.999475  1.000525  \n",
       "152     0.999379  1.000621  \n",
       "197     0.999284  1.000716  \n",
       "156     0.958634  1.036649  \n",
       "..           ...       ...  \n",
       "14      0.000000       inf  \n",
       "13      0.000000       inf  \n",
       "12      0.000000       inf  \n",
       "11      0.000000       inf  \n",
       "10      0.000000       inf  \n",
       "\n",
       "[205 rows x 6 columns]"
      ]
     },
     "execution_count": 19,
     "metadata": {},
     "output_type": "execute_result"
    }
   ],
   "source": [
    "filename = 'csv/football.csv'\n",
    "\n",
    "chartRecommender = ChartRecommender(filename,\n",
    "                                    word_embedding_dict, column_score_model, chart_type_model, device)\n",
    "bias = 0.000001\n",
    "\n",
    "scores = pd.DataFrame.from_records(chartRecommender.charts).sort_values(\n",
    "    by='final_score', ascending=False)\n",
    "scores[\"distance\"] = 1/(scores[\"column_selection_score\"])\n",
    "scores\n"
   ]
  },
  {
   "cell_type": "markdown",
   "metadata": {},
   "source": [
    "## 去除无穷大的边"
   ]
  },
  {
   "cell_type": "code",
   "execution_count": 20,
   "metadata": {},
   "outputs": [
    {
     "data": {
      "text/html": [
       "<div>\n",
       "<style scoped>\n",
       "    .dataframe tbody tr th:only-of-type {\n",
       "        vertical-align: middle;\n",
       "    }\n",
       "\n",
       "    .dataframe tbody tr th {\n",
       "        vertical-align: top;\n",
       "    }\n",
       "\n",
       "    .dataframe thead th {\n",
       "        text-align: right;\n",
       "    }\n",
       "</style>\n",
       "<table border=\"1\" class=\"dataframe\">\n",
       "  <thead>\n",
       "    <tr style=\"text-align: right;\">\n",
       "      <th></th>\n",
       "      <th>indices</th>\n",
       "      <th>column_selection_score</th>\n",
       "      <th>chart_type</th>\n",
       "      <th>chart_type_prob</th>\n",
       "      <th>final_score</th>\n",
       "      <th>distance</th>\n",
       "    </tr>\n",
       "  </thead>\n",
       "  <tbody>\n",
       "    <tr>\n",
       "      <th>4</th>\n",
       "      <td>(0,)</td>\n",
       "      <td>0.000046</td>\n",
       "      <td>scatter</td>\n",
       "      <td>1.593456e-35</td>\n",
       "      <td>7.267754e-40</td>\n",
       "      <td>21925.019505</td>\n",
       "    </tr>\n",
       "    <tr>\n",
       "      <th>0</th>\n",
       "      <td>(0,)</td>\n",
       "      <td>0.000046</td>\n",
       "      <td>area</td>\n",
       "      <td>1.240155e-23</td>\n",
       "      <td>5.656346e-28</td>\n",
       "      <td>21925.019505</td>\n",
       "    </tr>\n",
       "    <tr>\n",
       "      <th>3</th>\n",
       "      <td>(0,)</td>\n",
       "      <td>0.000046</td>\n",
       "      <td>pie</td>\n",
       "      <td>1.593456e-35</td>\n",
       "      <td>7.267754e-40</td>\n",
       "      <td>21925.019505</td>\n",
       "    </tr>\n",
       "    <tr>\n",
       "      <th>2</th>\n",
       "      <td>(0,)</td>\n",
       "      <td>0.000046</td>\n",
       "      <td>line</td>\n",
       "      <td>1.000000e+00</td>\n",
       "      <td>4.560999e-05</td>\n",
       "      <td>21925.019505</td>\n",
       "    </tr>\n",
       "    <tr>\n",
       "      <th>1</th>\n",
       "      <td>(0,)</td>\n",
       "      <td>0.000046</td>\n",
       "      <td>bar</td>\n",
       "      <td>3.642936e-14</td>\n",
       "      <td>1.661543e-18</td>\n",
       "      <td>21925.019505</td>\n",
       "    </tr>\n",
       "    <tr>\n",
       "      <th>...</th>\n",
       "      <td>...</td>\n",
       "      <td>...</td>\n",
       "      <td>...</td>\n",
       "      <td>...</td>\n",
       "      <td>...</td>\n",
       "      <td>...</td>\n",
       "    </tr>\n",
       "    <tr>\n",
       "      <th>181</th>\n",
       "      <td>(1, 4, 5)</td>\n",
       "      <td>1.000000</td>\n",
       "      <td>bar</td>\n",
       "      <td>9.490628e-08</td>\n",
       "      <td>9.490628e-08</td>\n",
       "      <td>1.000000</td>\n",
       "    </tr>\n",
       "    <tr>\n",
       "      <th>180</th>\n",
       "      <td>(1, 4, 5)</td>\n",
       "      <td>1.000000</td>\n",
       "      <td>area</td>\n",
       "      <td>1.583303e-21</td>\n",
       "      <td>1.583303e-21</td>\n",
       "      <td>1.000000</td>\n",
       "    </tr>\n",
       "    <tr>\n",
       "      <th>184</th>\n",
       "      <td>(1, 4, 5)</td>\n",
       "      <td>1.000000</td>\n",
       "      <td>scatter</td>\n",
       "      <td>4.501358e-30</td>\n",
       "      <td>4.501358e-30</td>\n",
       "      <td>1.000000</td>\n",
       "    </tr>\n",
       "    <tr>\n",
       "      <th>183</th>\n",
       "      <td>(1, 4, 5)</td>\n",
       "      <td>1.000000</td>\n",
       "      <td>pie</td>\n",
       "      <td>4.501358e-30</td>\n",
       "      <td>4.501358e-30</td>\n",
       "      <td>1.000000</td>\n",
       "    </tr>\n",
       "    <tr>\n",
       "      <th>182</th>\n",
       "      <td>(1, 4, 5)</td>\n",
       "      <td>1.000000</td>\n",
       "      <td>line</td>\n",
       "      <td>9.999999e-01</td>\n",
       "      <td>9.999999e-01</td>\n",
       "      <td>1.000000</td>\n",
       "    </tr>\n",
       "  </tbody>\n",
       "</table>\n",
       "<p>200 rows × 6 columns</p>\n",
       "</div>"
      ],
      "text/plain": [
       "       indices  column_selection_score chart_type  chart_type_prob  \\\n",
       "4         (0,)                0.000046    scatter     1.593456e-35   \n",
       "0         (0,)                0.000046       area     1.240155e-23   \n",
       "3         (0,)                0.000046        pie     1.593456e-35   \n",
       "2         (0,)                0.000046       line     1.000000e+00   \n",
       "1         (0,)                0.000046        bar     3.642936e-14   \n",
       "..         ...                     ...        ...              ...   \n",
       "181  (1, 4, 5)                1.000000        bar     9.490628e-08   \n",
       "180  (1, 4, 5)                1.000000       area     1.583303e-21   \n",
       "184  (1, 4, 5)                1.000000    scatter     4.501358e-30   \n",
       "183  (1, 4, 5)                1.000000        pie     4.501358e-30   \n",
       "182  (1, 4, 5)                1.000000       line     9.999999e-01   \n",
       "\n",
       "      final_score      distance  \n",
       "4    7.267754e-40  21925.019505  \n",
       "0    5.656346e-28  21925.019505  \n",
       "3    7.267754e-40  21925.019505  \n",
       "2    4.560999e-05  21925.019505  \n",
       "1    1.661543e-18  21925.019505  \n",
       "..            ...           ...  \n",
       "181  9.490628e-08      1.000000  \n",
       "180  1.583303e-21      1.000000  \n",
       "184  4.501358e-30      1.000000  \n",
       "183  4.501358e-30      1.000000  \n",
       "182  9.999999e-01      1.000000  \n",
       "\n",
       "[200 rows x 6 columns]"
      ]
     },
     "execution_count": 20,
     "metadata": {},
     "output_type": "execute_result"
    }
   ],
   "source": [
    "scores=scores.loc[scores[\"distance\"]!=float(\"inf\")]\n",
    "scores.sort_values(by='distance', ascending=False)"
   ]
  },
  {
   "cell_type": "markdown",
   "metadata": {},
   "source": [
    "## 归一化"
   ]
  },
  {
   "cell_type": "code",
   "execution_count": 21,
   "metadata": {},
   "outputs": [
    {
     "data": {
      "text/plain": [
       "21925.019504874985"
      ]
     },
     "metadata": {},
     "output_type": "display_data"
    },
    {
     "data": {
      "text/plain": [
       "0.9999999999999998"
      ]
     },
     "metadata": {},
     "output_type": "display_data"
    },
    {
     "name": "stderr",
     "output_type": "stream",
     "text": [
      "C:\\Users\\zjm97\\Anaconda3\\envs\\torch_env\\lib\\site-packages\\ipykernel_launcher.py:2: SettingWithCopyWarning: \n",
      "A value is trying to be set on a copy of a slice from a DataFrame.\n",
      "Try using .loc[row_indexer,col_indexer] = value instead\n",
      "\n",
      "See the caveats in the documentation: https://pandas.pydata.org/pandas-docs/stable/user_guide/indexing.html#returning-a-view-versus-a-copy\n",
      "  \n"
     ]
    }
   ],
   "source": [
    "display(scores[\"distance\"].max(),scores[\"distance\"].min())\n",
    "scores[\"reg_distance\"]=(scores[\"distance\"]-scores[\"distance\"].min())/(scores[\"distance\"].max()-scores[\"distance\"].min())"
   ]
  },
  {
   "cell_type": "markdown",
   "metadata": {},
   "source": [
    "## 把列对距离转为距离矩阵\n",
    "这里有两个方案：\n",
    "1. 仅保留两个列之间的距离（长度为2的对），距离矩阵就是对应索引的值\n",
    "2. 保留超过两个列的对，枚举其长度为2的组合，把他们的距离累加到对应索引的位置上"
   ]
  },
  {
   "cell_type": "code",
   "execution_count": 22,
   "metadata": {},
   "outputs": [],
   "source": [
    "from itertools import combinations\n",
    "\n",
    "src_table = pd.read_csv(filename)\n",
    "col_nums = len(src_table.columns)\n",
    "distance_mtxes = [np.full((col_nums, col_nums), np.nan),\n",
    "                  np.full((col_nums, col_nums), np.nan)]\n",
    "\n",
    "for index, series in scores.iterrows():\n",
    "    indices = series[\"indices\"]\n",
    "    if len(indices) == 2:\n",
    "        col_1,col_2=indices\n",
    "        val = distance_mtxes[1][col_1, col_2]\n",
    "        if np.isnan(val):\n",
    "            val = 0.0\n",
    "        distance_mtxes[1][col_1, col_2] = distance_mtxes[1][col_2, col_1]=distance_mtxes[0][col_2, col_1] = distance_mtxes[0][col_1, col_2] = val+series[\"reg_distance\"]\n",
    "    if len(indices) > 2:\n",
    "        for col_1, col_2 in combinations(indices, 2):\n",
    "            val = distance_mtxes[1][col_1, col_2]\n",
    "            if np.isnan(val):\n",
    "                val = 0.0\n",
    "            distance_mtxes[1][col_1, col_2] = distance_mtxes[1][col_2,col_1] = val+series[\"reg_distance\"]\n",
    "distance_mtxes[1]=distance_mtxes[1]/np.nanmax(distance_mtxes[1])\n"
   ]
  },
  {
   "cell_type": "code",
   "execution_count": 23,
   "metadata": {},
   "outputs": [
    {
     "name": "stderr",
     "output_type": "stream",
     "text": [
      "C:\\Users\\zjm97\\Anaconda3\\envs\\torch_env\\lib\\site-packages\\ipykernel_launcher.py:6: UserWarning: Matplotlib is currently using module://ipykernel.pylab.backend_inline, which is a non-GUI backend, so cannot show the figure.\n",
      "  \n"
     ]
    },
    {
     "data": {
      "image/png": "[encoded data removed]",
      "text/plain": [
       "<Figure size 360x720 with 4 Axes>"
      ]
     },
     "metadata": {
      "needs_background": "light"
     },
     "output_type": "display_data"
    }
   ],
   "source": [
    "fig, axes = plt.subplots(2, 1)\n",
    "sns.heatmap(distance_mtxes[0], ax=axes[0]).set_title(\"Method 1 Heatmap\")\n",
    "sns.heatmap(distance_mtxes[1], ax=axes[1]).set_title(\"Method 2 Heatmap\")\n",
    "\n",
    "fig.set_size_inches(5, 10)\n",
    "fig.show()"
   ]
  },
  {
   "cell_type": "markdown",
   "metadata": {},
   "source": [
    "可以看到，方案2包含的信息更多一些，所以下面使用方案2计算的距离矩阵。\n",
    "但是，方案2的问题在于**时间成本很高**，因此还需要再考虑"
   ]
  },
  {
   "cell_type": "code",
   "execution_count": 24,
   "metadata": {},
   "outputs": [],
   "source": [
    "distance_mtx = np.nan_to_num(distance_mtxes[1], nan=10.0)"
   ]
  },
  {
   "cell_type": "markdown",
   "metadata": {},
   "source": [
    "# 距离矩阵-相对坐标的转换与聚类\n",
    "- 使用MDS将距离矩阵转换为相对坐标。\n",
    "- 比较了DBSCAN、KMeans、高斯混合模型的效果差异"
   ]
  },
  {
   "cell_type": "code",
   "execution_count": 25,
   "metadata": {},
   "outputs": [
    {
     "name": "stderr",
     "output_type": "stream",
     "text": [
      "C:\\Users\\zjm97\\Anaconda3\\envs\\torch_env\\lib\\site-packages\\ipykernel_launcher.py:26: UserWarning: Matplotlib is currently using module://ipykernel.pylab.backend_inline, which is a non-GUI backend, so cannot show the figure.\n"
     ]
    },
    {
     "data": {
      "image/png": "[encoded data removed]",
      "text/plain": [
       "<Figure size 1332x756 with 4 Axes>"
      ]
     },
     "metadata": {
      "needs_background": "light"
     },
     "output_type": "display_data"
    }
   ],
   "source": [
    "from sklearn.manifold import MDS\n",
    "from sklearn.cluster import KMeans,DBSCAN\n",
    "from sklearn.mixture import GaussianMixture\n",
    "\n",
    "\n",
    "\n",
    "\n",
    "def show_compare(col_embedding,clusters=3,eps=0.2):\n",
    "    dbscan=DBSCAN(eps=eps).fit_predict(col_embedding)\n",
    "    kmeans = KMeans(n_clusters=clusters).fit_predict(col_embedding)\n",
    "    gmm = GaussianMixture(n_components=clusters).fit_predict(col_embedding)\n",
    "\n",
    "    fig,axes=plt.subplots(2,2)\n",
    "\n",
    "    p1=sns.scatterplot(x=col_embedding[:, 0], y=col_embedding[:, 1], hue=dbscan,ax=axes[0][0])\n",
    "    p1.set_title(\"DBSCAN\")\n",
    "    p2=sns.scatterplot(x=col_embedding[:, 0], y=col_embedding[:, 1], hue=kmeans,ax=axes[0][1])\n",
    "    p2.set_title(\"K-MEANS\")\n",
    "    p3=sns.scatterplot(x=col_embedding[:, 0], y=col_embedding[:, 1], hue=gmm,ax=axes[1][0])\n",
    "    p3.set_title(\"GMM\")\n",
    "    p4=sns.scatterplot(x=col_embedding[:, 0], y=col_embedding[:, 1],ax=axes[1][1])\n",
    "    p4.set_title(\"raw\")\n",
    "\n",
    "    plt.subplots_adjust(wspace=0.3, hspace=0.3)\n",
    "    fig.set_size_inches(18.5,10.5)\n",
    "    fig.show()\n",
    "\n",
    "\n",
    "pos = MDS(dissimilarity=\"precomputed\").fit_transform(distance_mtx)\n",
    "show_compare(pos, clusters=4)\n"
   ]
  },
  {
   "cell_type": "markdown",
   "metadata": {},
   "source": [
    "## 估计最佳的高斯混合模型聚类数"
   ]
  },
  {
   "cell_type": "code",
   "execution_count": 30,
   "metadata": {},
   "outputs": [
    {
     "name": "stderr",
     "output_type": "stream",
     "text": [
      "C:\\Users\\zjm97\\Anaconda3\\envs\\torch_env\\lib\\site-packages\\sklearn\\cluster\\_kmeans.py:1039: UserWarning: KMeans is known to have a memory leak on Windows with MKL, when there are less chunks than available threads. You can avoid it by setting the environment variable OMP_NUM_THREADS=1.\n",
      "  \"KMeans is known to have a memory leak on Windows \"\n",
      "C:\\Users\\zjm97\\Anaconda3\\envs\\torch_env\\lib\\site-packages\\seaborn\\_decorators.py:43: FutureWarning: Pass the following variables as keyword args: x, y. From version 0.12, the only valid positional argument will be `data`, and passing other arguments without an explicit keyword will result in an error or misinterpretation.\n",
      "  FutureWarning\n",
      "C:\\Users\\zjm97\\Anaconda3\\envs\\torch_env\\lib\\site-packages\\seaborn\\_decorators.py:43: FutureWarning: Pass the following variables as keyword args: x, y. From version 0.12, the only valid positional argument will be `data`, and passing other arguments without an explicit keyword will result in an error or misinterpretation.\n",
      "  FutureWarning\n"
     ]
    },
    {
     "data": {
      "image/png": "[encoded data removed]",
      "text/plain": [
       "<Figure size 432x288 with 1 Axes>"
      ]
     },
     "metadata": {
      "needs_background": "light"
     },
     "output_type": "display_data"
    },
    {
     "data": {
      "text/plain": [
       "'The best param for n is 5'"
      ]
     },
     "metadata": {},
     "output_type": "display_data"
    },
    {
     "data": {
      "image/png": "[encoded data removed]",
      "text/plain": [
       "<Figure size 360x720 with 3 Axes>"
      ]
     },
     "metadata": {
      "needs_background": "light"
     },
     "output_type": "display_data"
    }
   ],
   "source": [
    "def auto_choose_components(points,lower_n,higher_n):\n",
    "    models=[GaussianMixture(n_components=n).fit(points) for n in range(lower_n,higher_n+1)]\n",
    "    BICs = [m.bic(points) for m in models]\n",
    "    AICs = [m.aic(points) for m in models]\n",
    "    sns.lineplot(range(lower_n,higher_n+1),BICs,label=\"BIC\")\n",
    "    sns.lineplot(range(lower_n,higher_n+1),AICs,label=\"AIC\")\n",
    "    plt.show()\n",
    "    best_model_idx = min(np.argmin(BICs),np.argmin(AICs))\n",
    "    return best_model_idx+lower_n,models[best_model_idx]\n",
    "\n",
    "best_n,best_gmm=auto_choose_components(pos,1,col_nums)\n",
    "fig,axes = plt.subplots(2,1)\n",
    "sns.scatterplot(x=pos[:, 0], y=pos[:, 1], hue=best_gmm.predict(pos),ax=axes[0])\n",
    "sns.heatmap(best_gmm.predict_proba(pos),ax=axes[1])\n",
    "display(f\"The best param for n is {best_n}\")\n",
    "fig.set_size_inches(5,10)"
   ]
  },
  {
   "cell_type": "code",
   "execution_count": 27,
   "metadata": {},
   "outputs": [
    {
     "data": {
      "text/html": [
       "<div>\n",
       "<style scoped>\n",
       "    .dataframe tbody tr th:only-of-type {\n",
       "        vertical-align: middle;\n",
       "    }\n",
       "\n",
       "    .dataframe tbody tr th {\n",
       "        vertical-align: top;\n",
       "    }\n",
       "\n",
       "    .dataframe thead th {\n",
       "        text-align: right;\n",
       "    }\n",
       "</style>\n",
       "<table border=\"1\" class=\"dataframe\">\n",
       "  <thead>\n",
       "    <tr style=\"text-align: right;\">\n",
       "      <th></th>\n",
       "      <th>date</th>\n",
       "      <th>division</th>\n",
       "      <th>home_team</th>\n",
       "      <th>away_team</th>\n",
       "      <th>home_score</th>\n",
       "      <th>away_score</th>\n",
       "    </tr>\n",
       "  </thead>\n",
       "  <tbody>\n",
       "    <tr>\n",
       "      <th>0</th>\n",
       "      <td>2013-07-20</td>\n",
       "      <td>Österreichische Bundesliga</td>\n",
       "      <td>FK Austria Wien</td>\n",
       "      <td>FC Admira Wacker</td>\n",
       "      <td>2.0</td>\n",
       "      <td>0.0</td>\n",
       "    </tr>\n",
       "    <tr>\n",
       "      <th>1</th>\n",
       "      <td>2013-07-20</td>\n",
       "      <td>Österreichische Bundesliga</td>\n",
       "      <td>SC Wiener Neustadt</td>\n",
       "      <td>FC RB Salzburg</td>\n",
       "      <td>1.0</td>\n",
       "      <td>5.0</td>\n",
       "    </tr>\n",
       "    <tr>\n",
       "      <th>2</th>\n",
       "      <td>2013-07-20</td>\n",
       "      <td>Österreichische Bundesliga</td>\n",
       "      <td>SV Grodig</td>\n",
       "      <td>SV Ried</td>\n",
       "      <td>0.0</td>\n",
       "      <td>0.0</td>\n",
       "    </tr>\n",
       "    <tr>\n",
       "      <th>3</th>\n",
       "      <td>2013-07-20</td>\n",
       "      <td>Österreichische Bundesliga</td>\n",
       "      <td>Wolfsberger AC</td>\n",
       "      <td>SK Rapid Wien</td>\n",
       "      <td>2.0</td>\n",
       "      <td>2.0</td>\n",
       "    </tr>\n",
       "    <tr>\n",
       "      <th>4</th>\n",
       "      <td>2013-07-21</td>\n",
       "      <td>Österreichische Bundesliga</td>\n",
       "      <td>FC Wacker Innsbruck</td>\n",
       "      <td>SK Sturm Graz</td>\n",
       "      <td>2.0</td>\n",
       "      <td>2.0</td>\n",
       "    </tr>\n",
       "    <tr>\n",
       "      <th>...</th>\n",
       "      <td>...</td>\n",
       "      <td>...</td>\n",
       "      <td>...</td>\n",
       "      <td>...</td>\n",
       "      <td>...</td>\n",
       "      <td>...</td>\n",
       "    </tr>\n",
       "    <tr>\n",
       "      <th>6503</th>\n",
       "      <td>2017-05-28</td>\n",
       "      <td>Serie A</td>\n",
       "      <td>Cagliari</td>\n",
       "      <td>Milan</td>\n",
       "      <td>2.0</td>\n",
       "      <td>1.0</td>\n",
       "    </tr>\n",
       "    <tr>\n",
       "      <th>6504</th>\n",
       "      <td>2017-05-28</td>\n",
       "      <td>Serie A</td>\n",
       "      <td>Sampdoria</td>\n",
       "      <td>Napoli</td>\n",
       "      <td>2.0</td>\n",
       "      <td>4.0</td>\n",
       "    </tr>\n",
       "    <tr>\n",
       "      <th>6505</th>\n",
       "      <td>2017-05-28</td>\n",
       "      <td>Serie A</td>\n",
       "      <td>Fiorentina</td>\n",
       "      <td>Pescara</td>\n",
       "      <td>2.0</td>\n",
       "      <td>2.0</td>\n",
       "    </tr>\n",
       "    <tr>\n",
       "      <th>6506</th>\n",
       "      <td>2017-05-28</td>\n",
       "      <td>Serie A</td>\n",
       "      <td>Torino</td>\n",
       "      <td>Sassuolo</td>\n",
       "      <td>5.0</td>\n",
       "      <td>3.0</td>\n",
       "    </tr>\n",
       "    <tr>\n",
       "      <th>6507</th>\n",
       "      <td>2017-05-28</td>\n",
       "      <td>Serie A</td>\n",
       "      <td>Inter</td>\n",
       "      <td>Udinese</td>\n",
       "      <td>5.0</td>\n",
       "      <td>2.0</td>\n",
       "    </tr>\n",
       "  </tbody>\n",
       "</table>\n",
       "<p>6508 rows × 6 columns</p>\n",
       "</div>"
      ],
      "text/plain": [
       "            date                    division            home_team  \\\n",
       "0     2013-07-20  Österreichische Bundesliga      FK Austria Wien   \n",
       "1     2013-07-20  Österreichische Bundesliga   SC Wiener Neustadt   \n",
       "2     2013-07-20  Österreichische Bundesliga            SV Grodig   \n",
       "3     2013-07-20  Österreichische Bundesliga       Wolfsberger AC   \n",
       "4     2013-07-21  Österreichische Bundesliga  FC Wacker Innsbruck   \n",
       "...          ...                         ...                  ...   \n",
       "6503  2017-05-28                     Serie A             Cagliari   \n",
       "6504  2017-05-28                     Serie A            Sampdoria   \n",
       "6505  2017-05-28                     Serie A           Fiorentina   \n",
       "6506  2017-05-28                     Serie A               Torino   \n",
       "6507  2017-05-28                     Serie A                Inter   \n",
       "\n",
       "             away_team  home_score  away_score  \n",
       "0     FC Admira Wacker         2.0         0.0  \n",
       "1       FC RB Salzburg         1.0         5.0  \n",
       "2              SV Ried         0.0         0.0  \n",
       "3        SK Rapid Wien         2.0         2.0  \n",
       "4        SK Sturm Graz         2.0         2.0  \n",
       "...                ...         ...         ...  \n",
       "6503             Milan         2.0         1.0  \n",
       "6504            Napoli         2.0         4.0  \n",
       "6505           Pescara         2.0         2.0  \n",
       "6506          Sassuolo         5.0         3.0  \n",
       "6507           Udinese         5.0         2.0  \n",
       "\n",
       "[6508 rows x 6 columns]"
      ]
     },
     "execution_count": 27,
     "metadata": {},
     "output_type": "execute_result"
    }
   ],
   "source": [
    "src_table"
   ]
  }
 ],
 "metadata": {
  "interpreter": {
   "hash": "242949c92b61f81d8e4c9ff436072217bc2a62786b051a0b65a819bb8afe65e4"
  },
  "kernelspec": {
   "display_name": "Python 3.7.10 64-bit ('torch_env': conda)",
   "name": "python3"
  },
  "language_info": {
   "codemirror_mode": {
    "name": "ipython",
    "version": 3
   },
   "file_extension": ".py",
   "mimetype": "text/x-python",
   "name": "python",
   "nbconvert_exporter": "python",
   "pygments_lexer": "ipython3",
   "version": "3.7.10"
  },
  "orig_nbformat": 4
 },
 "nbformat": 4,
 "nbformat_minor": 2
}
